{
 "cells": [
  {
   "cell_type": "code",
   "execution_count": 4,
   "metadata": {},
   "outputs": [],
   "source": [
    "import pysrt\n",
    "import requests\n",
    "\n",
    "def getTextFromSRTFile(srtpath):\n",
    "\n",
    "    subs = pysrt.open(srtpath)\n",
    "\n",
    "    alltext = ''\n",
    "\n",
    "    for sub in subs:\n",
    "        alltext = alltext + sub.text + ' '\n",
    "\n",
    "    #print alltext\n",
    "\n",
    "    return alltext\n"
   ]
  },
  {
   "cell_type": "code",
   "execution_count": 5,
   "metadata": {},
   "outputs": [],
   "source": [
    "import pycurl\n",
    "from StringIO import StringIO\n",
    "from urllib import urlencode\n",
    "import spacy \n",
    "\n",
    "\n",
    "def spacySentenceSegmentation(allText):\n",
    "    nlp = spacy.load(\"en\")\n",
    "    document = nlp(allText)\n",
    "    \n",
    "    allsentences = list(document.sents)\n",
    "    #print \"List of sentences \", len(allsentences)\n",
    "    return allsentences    \n",
    "\n",
    "\n",
    "def getPunctuatedText(alltext):\n",
    "\n",
    "    buffer = StringIO()\n",
    "    c = pycurl.Curl()\n",
    "    c.setopt(c.URL, 'http://bark.phon.ioc.ee/punctuator')\n",
    "    post_data = {}\n",
    "    \n",
    "    alltext = alltext.encode('utf-8')    \n",
    "    post_data['text'] = alltext\n",
    "    postfields = urlencode(post_data)\n",
    "    c.setopt(c.POSTFIELDS, postfields)\n",
    "    c.setopt(c.WRITEDATA, buffer)\n",
    "    c.perform()\n",
    "    c.close()\n",
    "    body = buffer.getvalue()\n",
    "    # Body is a string in some encoding.\n",
    "    # In Python 2, we can print it without knowing what the encoding is.\n",
    "    return body\n",
    "\n",
    "\n",
    "\n",
    "# Form data must be provided already urlencoded.\n",
    "\n",
    "# Sets request method to POST,\n",
    "# Content-Type header to application/x-www-form-urlencoded\n",
    "# and data to send in request body.\n",
    "#c.setopt(c.POSTFIELDS, postfields)\n",
    "\n",
    "\n",
    "#SRTFilePath = '/home/kuldeep/bookextraction/boschvideos/tcsdigital/3PjwojBtLm8.en.srt'\n",
    "#allText = getTextFromSRTFile(SRTFilePath)\n",
    "#print \"all text is \", allText\n",
    "#spacySentenceSegmentation(allText)\n",
    "#punctuatedtext= getPunctuatedText(allText)\n",
    "#print \"punctuated text is \", punctuatedtext\n",
    "#spacySentenceSegmentation(unicode(punctuatedtext))\n",
    "\n",
    "\n"
   ]
  },
  {
   "cell_type": "code",
   "execution_count": 11,
   "metadata": {},
   "outputs": [
    {
     "name": "stdout",
     "output_type": "stream",
     "text": [
      "SRT File Path is :  /home/dalonlobo/deepspeech_models/asr/cris_demo/5_vid_srt_new/1vl8rLwuFuQ.en.old.srt\n",
      "SRT File Path is :  /home/dalonlobo/deepspeech_models/asr/cris_demo/5_vid_srt_new/eIv2fpJ8Q8s.en.old.srt\n",
      "SRT File Path is :  /home/dalonlobo/deepspeech_models/asr/cris_demo/5_vid_srt_new/ieCX9P9zeQY.en.old.srt\n",
      "SRT File Path is :  /home/dalonlobo/deepspeech_models/asr/cris_demo/5_vid_srt_new/dkZ6L8LMHX8.en.old.srt\n",
      "SRT File Path is :  /home/dalonlobo/deepspeech_models/asr/cris_demo/5_vid_srt_new/HZR0SuUwdbc.en.old.srt\n",
      "Finished iterating on all the IDs \n"
     ]
    }
   ],
   "source": [
    "videoids = ['1vl8rLwuFuQ',  'eIv2fpJ8Q8s', 'ieCX9P9zeQY', 'dkZ6L8LMHX8', 'HZR0SuUwdbc']\n",
    "\n",
    "#r43LhSUUGTQ\n",
    "\n",
    "dirPath = '/home/dalonlobo/deepspeech_models/asr/cris_demo/5_vid_srt_new/'\n",
    "\n",
    "for eachvideoid in videoids:\n",
    "    \n",
    "    SRTFilePath = dirPath + eachvideoid + '.en' + '.old.srt'\n",
    "    print \"SRT File Path is : \", SRTFilePath\n",
    "    allText = getTextFromSRTFile(SRTFilePath)\n",
    "    #print \"all text is \", allText\n",
    "    #spacySentenceSegmentation(allText)\n",
    "    punctuatedtext= getPunctuatedText(allText)\n",
    "    #print \"punctuated text is \", punctuatedtext\n",
    "    allsentences = spacySentenceSegmentation(unicode(punctuatedtext, 'utf-8'))\n",
    "    \n",
    "    sentencesFilePath = dirPath + eachvideoid + '.en.sentences.old'\n",
    "    with open(sentencesFilePath, 'w') as f:\n",
    "        for eachsent in allsentences:\n",
    "            f.write (str(eachsent) + '\\n')\n",
    "\n",
    "print \"Finished iterating on all the IDs \"\n",
    "    \n",
    "    "
   ]
  }
 ],
 "metadata": {
  "kernelspec": {
   "display_name": "Python 2",
   "language": "python",
   "name": "python2"
  },
  "language_info": {
   "codemirror_mode": {
    "name": "ipython",
    "version": 2
   },
   "file_extension": ".py",
   "mimetype": "text/x-python",
   "name": "python",
   "nbconvert_exporter": "python",
   "pygments_lexer": "ipython2",
   "version": "2.7.14"
  }
 },
 "nbformat": 4,
 "nbformat_minor": 2
}
